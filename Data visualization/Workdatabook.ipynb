{
 "cells": [
  {
   "cell_type": "code",
   "execution_count": 44,
   "metadata": {},
   "outputs": [],
   "source": [
    "#import all libraries needes for this one \n",
    "#import specific library function\n",
    "from pandas import DataFrame, read_csv\n",
    "#import pandas\n",
    "import pandas as pd\n",
    "#for check python version\n",
    "import sys\n",
    "\n"
   ]
  },
  {
   "cell_type": "code",
   "execution_count": 12,
   "metadata": {},
   "outputs": [
    {
     "name": "stdout",
     "output_type": "stream",
     "text": [
      "python version 3.7.0 (default, Jun 28 2018, 08:04:48) [MSC v.1912 64 bit (AMD64)]\n",
      "python version0.23.4\n"
     ]
    }
   ],
   "source": [
    "#check python and pandas version\n",
    "print('python version ' + sys.version)\n",
    "print('python version' + pd.__version__)\n",
    "\n"
   ]
  },
  {
   "cell_type": "code",
   "execution_count": 92,
   "metadata": {},
   "outputs": [],
   "source": [
    "names = ['Guru','Jolly','Marycom','Johnnathan','Santosh']\n",
    "email = ['Gru@gmail.com','Jlly@gmail.com','Mcom@yahoo.com','John@outlook.com','Stosh@gmail.com']\n",
    "city =  ['Pune','New delhi','Mumbai','NewYork','Punjab']\n",
    "department = ['IT','Salesman','Developere','Testing','Management']\n",
    "salary = ['35000','36500','65000','58692','35629']"
   ]
  },
  {
   "cell_type": "code",
   "execution_count": 93,
   "metadata": {},
   "outputs": [],
   "source": [
    "#creating DataSet (Person)"
   ]
  },
  {
   "cell_type": "code",
   "execution_count": 96,
   "metadata": {},
   "outputs": [
    {
     "data": {
      "text/plain": [
       "[('Guru', 'Gru@gmail.com', 'Pune', 'IT', '35000'),\n",
       " ('Jolly', 'Jlly@gmail.com', 'New delhi', 'Salesman', '36500'),\n",
       " ('Marycom', 'Mcom@yahoo.com', 'Mumbai', 'Developere', '65000'),\n",
       " ('Johnnathan', 'John@outlook.com', 'NewYork', 'Testing', '58692'),\n",
       " ('Santosh', 'Stosh@gmail.com', 'Punjab', 'Management', '35629')]"
      ]
     },
     "execution_count": 96,
     "metadata": {},
     "output_type": "execute_result"
    }
   ],
   "source": [
    "PersonDataSet = list(zip(names,email,city,department,salary))\n",
    "PersonDataSet"
   ]
  },
  {
   "cell_type": "code",
   "execution_count": 97,
   "metadata": {},
   "outputs": [
    {
     "data": {
      "text/html": [
       "<div>\n",
       "<style scoped>\n",
       "    .dataframe tbody tr th:only-of-type {\n",
       "        vertical-align: middle;\n",
       "    }\n",
       "\n",
       "    .dataframe tbody tr th {\n",
       "        vertical-align: top;\n",
       "    }\n",
       "\n",
       "    .dataframe thead th {\n",
       "        text-align: right;\n",
       "    }\n",
       "</style>\n",
       "<table border=\"1\" class=\"dataframe\">\n",
       "  <thead>\n",
       "    <tr style=\"text-align: right;\">\n",
       "      <th></th>\n",
       "      <th>Name</th>\n",
       "      <th>Email</th>\n",
       "      <th>City</th>\n",
       "      <th>Department</th>\n",
       "      <th>Salary</th>\n",
       "    </tr>\n",
       "  </thead>\n",
       "  <tbody>\n",
       "    <tr>\n",
       "      <th>0</th>\n",
       "      <td>Guru</td>\n",
       "      <td>Gru@gmail.com</td>\n",
       "      <td>Pune</td>\n",
       "      <td>IT</td>\n",
       "      <td>35000</td>\n",
       "    </tr>\n",
       "    <tr>\n",
       "      <th>1</th>\n",
       "      <td>Jolly</td>\n",
       "      <td>Jlly@gmail.com</td>\n",
       "      <td>New delhi</td>\n",
       "      <td>Salesman</td>\n",
       "      <td>36500</td>\n",
       "    </tr>\n",
       "    <tr>\n",
       "      <th>2</th>\n",
       "      <td>Marycom</td>\n",
       "      <td>Mcom@yahoo.com</td>\n",
       "      <td>Mumbai</td>\n",
       "      <td>Developere</td>\n",
       "      <td>65000</td>\n",
       "    </tr>\n",
       "    <tr>\n",
       "      <th>3</th>\n",
       "      <td>Johnnathan</td>\n",
       "      <td>John@outlook.com</td>\n",
       "      <td>NewYork</td>\n",
       "      <td>Testing</td>\n",
       "      <td>58692</td>\n",
       "    </tr>\n",
       "    <tr>\n",
       "      <th>4</th>\n",
       "      <td>Santosh</td>\n",
       "      <td>Stosh@gmail.com</td>\n",
       "      <td>Punjab</td>\n",
       "      <td>Management</td>\n",
       "      <td>35629</td>\n",
       "    </tr>\n",
       "  </tbody>\n",
       "</table>\n",
       "</div>"
      ],
      "text/plain": [
       "         Name             Email       City  Department Salary\n",
       "0        Guru     Gru@gmail.com       Pune          IT  35000\n",
       "1       Jolly    Jlly@gmail.com  New delhi    Salesman  36500\n",
       "2     Marycom    Mcom@yahoo.com     Mumbai  Developere  65000\n",
       "3  Johnnathan  John@outlook.com    NewYork     Testing  58692\n",
       "4     Santosh   Stosh@gmail.com     Punjab  Management  35629"
      ]
     },
     "execution_count": 97,
     "metadata": {},
     "output_type": "execute_result"
    }
   ],
   "source": [
    "df = pd.DataFrame(data = PersonDataSet, columns=['Name', 'Email', 'City','Department','Salary' ])\n",
    "df"
   ]
  },
  {
   "cell_type": "code",
   "execution_count": 98,
   "metadata": {},
   "outputs": [],
   "source": [
    "df.to_csv('Personinfo.csv',index=False,header=False)"
   ]
  },
  {
   "cell_type": "code",
   "execution_count": 86,
   "metadata": {},
   "outputs": [],
   "source": [
    "Location= r'C:\\Users\\RamaKrishna\\Personinfo.csv'\n",
    "df = pd.read_csv(Location)"
   ]
  },
  {
   "cell_type": "code",
   "execution_count": 99,
   "metadata": {},
   "outputs": [
    {
     "data": {
      "text/html": [
       "<div>\n",
       "<style scoped>\n",
       "    .dataframe tbody tr th:only-of-type {\n",
       "        vertical-align: middle;\n",
       "    }\n",
       "\n",
       "    .dataframe tbody tr th {\n",
       "        vertical-align: top;\n",
       "    }\n",
       "\n",
       "    .dataframe thead th {\n",
       "        text-align: right;\n",
       "    }\n",
       "</style>\n",
       "<table border=\"1\" class=\"dataframe\">\n",
       "  <thead>\n",
       "    <tr style=\"text-align: right;\">\n",
       "      <th></th>\n",
       "      <th>Name</th>\n",
       "      <th>Email</th>\n",
       "      <th>City</th>\n",
       "      <th>Department</th>\n",
       "      <th>Salary</th>\n",
       "    </tr>\n",
       "  </thead>\n",
       "  <tbody>\n",
       "    <tr>\n",
       "      <th>0</th>\n",
       "      <td>Guru</td>\n",
       "      <td>Gru@gmail.com</td>\n",
       "      <td>Pune</td>\n",
       "      <td>IT</td>\n",
       "      <td>35000</td>\n",
       "    </tr>\n",
       "    <tr>\n",
       "      <th>1</th>\n",
       "      <td>Jolly</td>\n",
       "      <td>Jlly@gmail.com</td>\n",
       "      <td>New delhi</td>\n",
       "      <td>Salesman</td>\n",
       "      <td>36500</td>\n",
       "    </tr>\n",
       "    <tr>\n",
       "      <th>2</th>\n",
       "      <td>Marycom</td>\n",
       "      <td>Mcom@yahoo.com</td>\n",
       "      <td>Mumbai</td>\n",
       "      <td>Developere</td>\n",
       "      <td>65000</td>\n",
       "    </tr>\n",
       "    <tr>\n",
       "      <th>3</th>\n",
       "      <td>Johnnathan</td>\n",
       "      <td>John@outlook.com</td>\n",
       "      <td>NewYork</td>\n",
       "      <td>Testing</td>\n",
       "      <td>58692</td>\n",
       "    </tr>\n",
       "    <tr>\n",
       "      <th>4</th>\n",
       "      <td>Santosh</td>\n",
       "      <td>Stosh@gmail.com</td>\n",
       "      <td>Punjab</td>\n",
       "      <td>Management</td>\n",
       "      <td>35629</td>\n",
       "    </tr>\n",
       "  </tbody>\n",
       "</table>\n",
       "</div>"
      ],
      "text/plain": [
       "         Name             Email       City  Department Salary\n",
       "0        Guru     Gru@gmail.com       Pune          IT  35000\n",
       "1       Jolly    Jlly@gmail.com  New delhi    Salesman  36500\n",
       "2     Marycom    Mcom@yahoo.com     Mumbai  Developere  65000\n",
       "3  Johnnathan  John@outlook.com    NewYork     Testing  58692\n",
       "4     Santosh   Stosh@gmail.com     Punjab  Management  35629"
      ]
     },
     "execution_count": 99,
     "metadata": {},
     "output_type": "execute_result"
    }
   ],
   "source": [
    "df"
   ]
  },
  {
   "cell_type": "code",
   "execution_count": null,
   "metadata": {},
   "outputs": [],
   "source": [
    "#df = pd.read_csv(Location, header=None)\n",
    "#df"
   ]
  },
  {
   "cell_type": "code",
   "execution_count": 100,
   "metadata": {},
   "outputs": [
    {
     "data": {
      "text/html": [
       "<div>\n",
       "<style scoped>\n",
       "    .dataframe tbody tr th:only-of-type {\n",
       "        vertical-align: middle;\n",
       "    }\n",
       "\n",
       "    .dataframe tbody tr th {\n",
       "        vertical-align: top;\n",
       "    }\n",
       "\n",
       "    .dataframe thead th {\n",
       "        text-align: right;\n",
       "    }\n",
       "</style>\n",
       "<table border=\"1\" class=\"dataframe\">\n",
       "  <thead>\n",
       "    <tr style=\"text-align: right;\">\n",
       "      <th></th>\n",
       "      <th>0</th>\n",
       "      <th>1</th>\n",
       "      <th>2</th>\n",
       "      <th>3</th>\n",
       "      <th>4</th>\n",
       "    </tr>\n",
       "  </thead>\n",
       "  <tbody>\n",
       "    <tr>\n",
       "      <th>0</th>\n",
       "      <td>Guru</td>\n",
       "      <td>Gru@gmail.com</td>\n",
       "      <td>Pune</td>\n",
       "      <td>IT</td>\n",
       "      <td>35000</td>\n",
       "    </tr>\n",
       "    <tr>\n",
       "      <th>1</th>\n",
       "      <td>Jolly</td>\n",
       "      <td>Jlly@gmail.com</td>\n",
       "      <td>New delhi</td>\n",
       "      <td>Salesman</td>\n",
       "      <td>36500</td>\n",
       "    </tr>\n",
       "    <tr>\n",
       "      <th>2</th>\n",
       "      <td>Marycom</td>\n",
       "      <td>Mcom@yahoo.com</td>\n",
       "      <td>Mumbai</td>\n",
       "      <td>Developere</td>\n",
       "      <td>65000</td>\n",
       "    </tr>\n",
       "    <tr>\n",
       "      <th>3</th>\n",
       "      <td>Johnnathan</td>\n",
       "      <td>John@outlook.com</td>\n",
       "      <td>NewYork</td>\n",
       "      <td>Testing</td>\n",
       "      <td>58692</td>\n",
       "    </tr>\n",
       "    <tr>\n",
       "      <th>4</th>\n",
       "      <td>Santosh</td>\n",
       "      <td>Stosh@gmail.com</td>\n",
       "      <td>Punjab</td>\n",
       "      <td>Management</td>\n",
       "      <td>35629</td>\n",
       "    </tr>\n",
       "  </tbody>\n",
       "</table>\n",
       "</div>"
      ],
      "text/plain": [
       "            0                 1          2           3      4\n",
       "0        Guru     Gru@gmail.com       Pune          IT  35000\n",
       "1       Jolly    Jlly@gmail.com  New delhi    Salesman  36500\n",
       "2     Marycom    Mcom@yahoo.com     Mumbai  Developere  65000\n",
       "3  Johnnathan  John@outlook.com    NewYork     Testing  58692\n",
       "4     Santosh   Stosh@gmail.com     Punjab  Management  35629"
      ]
     },
     "execution_count": 100,
     "metadata": {},
     "output_type": "execute_result"
    }
   ],
   "source": [
    "df = pd.read_csv(Location, header=None)\n",
    "df"
   ]
  },
  {
   "cell_type": "code",
   "execution_count": 48,
   "metadata": {},
   "outputs": [],
   "source": [
    "#df = pd.read_csv(Location, names=['Names','Births'])\n",
    "#df"
   ]
  },
  {
   "cell_type": "code",
   "execution_count": 108,
   "metadata": {},
   "outputs": [
    {
     "data": {
      "text/html": [
       "<div>\n",
       "<style scoped>\n",
       "    .dataframe tbody tr th:only-of-type {\n",
       "        vertical-align: middle;\n",
       "    }\n",
       "\n",
       "    .dataframe tbody tr th {\n",
       "        vertical-align: top;\n",
       "    }\n",
       "\n",
       "    .dataframe thead th {\n",
       "        text-align: right;\n",
       "    }\n",
       "</style>\n",
       "<table border=\"1\" class=\"dataframe\">\n",
       "  <thead>\n",
       "    <tr style=\"text-align: right;\">\n",
       "      <th></th>\n",
       "      <th>Names</th>\n",
       "      <th>Contact</th>\n",
       "      <th>City</th>\n",
       "      <th>Department</th>\n",
       "      <th>Salary</th>\n",
       "    </tr>\n",
       "  </thead>\n",
       "  <tbody>\n",
       "    <tr>\n",
       "      <th>0</th>\n",
       "      <td>Guru</td>\n",
       "      <td>Gru@gmail.com</td>\n",
       "      <td>Pune</td>\n",
       "      <td>IT</td>\n",
       "      <td>35000</td>\n",
       "    </tr>\n",
       "    <tr>\n",
       "      <th>1</th>\n",
       "      <td>Jolly</td>\n",
       "      <td>Jlly@gmail.com</td>\n",
       "      <td>New delhi</td>\n",
       "      <td>Salesman</td>\n",
       "      <td>36500</td>\n",
       "    </tr>\n",
       "    <tr>\n",
       "      <th>2</th>\n",
       "      <td>Marycom</td>\n",
       "      <td>Mcom@yahoo.com</td>\n",
       "      <td>Mumbai</td>\n",
       "      <td>Developere</td>\n",
       "      <td>65000</td>\n",
       "    </tr>\n",
       "    <tr>\n",
       "      <th>3</th>\n",
       "      <td>Johnnathan</td>\n",
       "      <td>John@outlook.com</td>\n",
       "      <td>NewYork</td>\n",
       "      <td>Testing</td>\n",
       "      <td>58692</td>\n",
       "    </tr>\n",
       "    <tr>\n",
       "      <th>4</th>\n",
       "      <td>Santosh</td>\n",
       "      <td>Stosh@gmail.com</td>\n",
       "      <td>Punjab</td>\n",
       "      <td>Management</td>\n",
       "      <td>35629</td>\n",
       "    </tr>\n",
       "  </tbody>\n",
       "</table>\n",
       "</div>"
      ],
      "text/plain": [
       "        Names           Contact       City  Department  Salary \n",
       "0        Guru     Gru@gmail.com       Pune          IT    35000\n",
       "1       Jolly    Jlly@gmail.com  New delhi    Salesman    36500\n",
       "2     Marycom    Mcom@yahoo.com     Mumbai  Developere    65000\n",
       "3  Johnnathan  John@outlook.com    NewYork     Testing    58692\n",
       "4     Santosh   Stosh@gmail.com     Punjab  Management    35629"
      ]
     },
     "execution_count": 108,
     "metadata": {},
     "output_type": "execute_result"
    }
   ],
   "source": [
    "df = pd.read_csv(Location, names=['Names','Contact','City','Department','Salary '])\n",
    "df"
   ]
  },
  {
   "cell_type": "code",
   "execution_count": 50,
   "metadata": {},
   "outputs": [],
   "source": [
    "#for delete the csvfile\n",
    "#import os\n",
    "#os.remove(Location)"
   ]
  },
  {
   "cell_type": "code",
   "execution_count": 109,
   "metadata": {},
   "outputs": [
    {
     "data": {
      "text/plain": [
       "Names         object\n",
       "Contact       object\n",
       "City          object\n",
       "Department    object\n",
       "Salary         int64\n",
       "dtype: object"
      ]
     },
     "execution_count": 109,
     "metadata": {},
     "output_type": "execute_result"
    }
   ],
   "source": [
    "df.dtypes"
   ]
  },
  {
   "cell_type": "code",
   "execution_count": 55,
   "metadata": {},
   "outputs": [],
   "source": [
    "# Check data type of Births column\n",
    "#df.Births.dtype"
   ]
  },
  {
   "cell_type": "code",
   "execution_count": 113,
   "metadata": {},
   "outputs": [
    {
     "data": {
      "text/plain": [
       "dtype('O')"
      ]
     },
     "execution_count": 113,
     "metadata": {},
     "output_type": "execute_result"
    }
   ],
   "source": [
    "df.City.dtype"
   ]
  },
  {
   "cell_type": "code",
   "execution_count": 59,
   "metadata": {},
   "outputs": [],
   "source": [
    "# Method 1:\n",
    "#Sorted = df.sort_values(['Births'], ascending=False)\n",
    "#Sorted.head(1)"
   ]
  },
  {
   "cell_type": "code",
   "execution_count": 138,
   "metadata": {},
   "outputs": [
    {
     "data": {
      "text/html": [
       "<div>\n",
       "<style scoped>\n",
       "    .dataframe tbody tr th:only-of-type {\n",
       "        vertical-align: middle;\n",
       "    }\n",
       "\n",
       "    .dataframe tbody tr th {\n",
       "        vertical-align: top;\n",
       "    }\n",
       "\n",
       "    .dataframe thead th {\n",
       "        text-align: right;\n",
       "    }\n",
       "</style>\n",
       "<table border=\"1\" class=\"dataframe\">\n",
       "  <thead>\n",
       "    <tr style=\"text-align: right;\">\n",
       "      <th></th>\n",
       "      <th>Names</th>\n",
       "      <th>Contact</th>\n",
       "      <th>City</th>\n",
       "      <th>Department</th>\n",
       "      <th>Salary</th>\n",
       "    </tr>\n",
       "  </thead>\n",
       "  <tbody>\n",
       "    <tr>\n",
       "      <th>2</th>\n",
       "      <td>Marycom</td>\n",
       "      <td>Mcom@yahoo.com</td>\n",
       "      <td>Mumbai</td>\n",
       "      <td>Developere</td>\n",
       "      <td>65000</td>\n",
       "    </tr>\n",
       "    <tr>\n",
       "      <th>1</th>\n",
       "      <td>Jolly</td>\n",
       "      <td>Jlly@gmail.com</td>\n",
       "      <td>New delhi</td>\n",
       "      <td>Salesman</td>\n",
       "      <td>36500</td>\n",
       "    </tr>\n",
       "    <tr>\n",
       "      <th>3</th>\n",
       "      <td>Johnnathan</td>\n",
       "      <td>John@outlook.com</td>\n",
       "      <td>NewYork</td>\n",
       "      <td>Testing</td>\n",
       "      <td>58692</td>\n",
       "    </tr>\n",
       "    <tr>\n",
       "      <th>0</th>\n",
       "      <td>Guru</td>\n",
       "      <td>Gru@gmail.com</td>\n",
       "      <td>Pune</td>\n",
       "      <td>IT</td>\n",
       "      <td>35000</td>\n",
       "    </tr>\n",
       "    <tr>\n",
       "      <th>4</th>\n",
       "      <td>Santosh</td>\n",
       "      <td>Stosh@gmail.com</td>\n",
       "      <td>Punjab</td>\n",
       "      <td>Management</td>\n",
       "      <td>35629</td>\n",
       "    </tr>\n",
       "  </tbody>\n",
       "</table>\n",
       "</div>"
      ],
      "text/plain": [
       "        Names           Contact       City  Department  Salary \n",
       "2     Marycom    Mcom@yahoo.com     Mumbai  Developere    65000\n",
       "1       Jolly    Jlly@gmail.com  New delhi    Salesman    36500\n",
       "3  Johnnathan  John@outlook.com    NewYork     Testing    58692\n",
       "0        Guru     Gru@gmail.com       Pune          IT    35000\n",
       "4     Santosh   Stosh@gmail.com     Punjab  Management    35629"
      ]
     },
     "execution_count": 138,
     "metadata": {},
     "output_type": "execute_result"
    }
   ],
   "source": [
    "Sorted = df.sort_values(['City'], ascending=True)\n",
    "Sorted.head(5)"
   ]
  },
  {
   "cell_type": "code",
   "execution_count": 131,
   "metadata": {},
   "outputs": [
    {
     "data": {
      "text/html": [
       "<div>\n",
       "<style scoped>\n",
       "    .dataframe tbody tr th:only-of-type {\n",
       "        vertical-align: middle;\n",
       "    }\n",
       "\n",
       "    .dataframe tbody tr th {\n",
       "        vertical-align: top;\n",
       "    }\n",
       "\n",
       "    .dataframe thead th {\n",
       "        text-align: right;\n",
       "    }\n",
       "</style>\n",
       "<table border=\"1\" class=\"dataframe\">\n",
       "  <thead>\n",
       "    <tr style=\"text-align: right;\">\n",
       "      <th></th>\n",
       "      <th>Names</th>\n",
       "      <th>Contact</th>\n",
       "      <th>City</th>\n",
       "      <th>Department</th>\n",
       "      <th>Salary</th>\n",
       "    </tr>\n",
       "  </thead>\n",
       "  <tbody>\n",
       "    <tr>\n",
       "      <th>3</th>\n",
       "      <td>Johnnathan</td>\n",
       "      <td>John@outlook.com</td>\n",
       "      <td>NewYork</td>\n",
       "      <td>Testing</td>\n",
       "      <td>58692</td>\n",
       "    </tr>\n",
       "    <tr>\n",
       "      <th>1</th>\n",
       "      <td>Jolly</td>\n",
       "      <td>Jlly@gmail.com</td>\n",
       "      <td>New delhi</td>\n",
       "      <td>Salesman</td>\n",
       "      <td>36500</td>\n",
       "    </tr>\n",
       "    <tr>\n",
       "      <th>4</th>\n",
       "      <td>Santosh</td>\n",
       "      <td>Stosh@gmail.com</td>\n",
       "      <td>Punjab</td>\n",
       "      <td>Management</td>\n",
       "      <td>35629</td>\n",
       "    </tr>\n",
       "    <tr>\n",
       "      <th>0</th>\n",
       "      <td>Guru</td>\n",
       "      <td>Gru@gmail.com</td>\n",
       "      <td>Pune</td>\n",
       "      <td>IT</td>\n",
       "      <td>35000</td>\n",
       "    </tr>\n",
       "    <tr>\n",
       "      <th>2</th>\n",
       "      <td>Marycom</td>\n",
       "      <td>Mcom@yahoo.com</td>\n",
       "      <td>Mumbai</td>\n",
       "      <td>Developere</td>\n",
       "      <td>65000</td>\n",
       "    </tr>\n",
       "  </tbody>\n",
       "</table>\n",
       "</div>"
      ],
      "text/plain": [
       "        Names           Contact       City  Department  Salary \n",
       "3  Johnnathan  John@outlook.com    NewYork     Testing    58692\n",
       "1       Jolly    Jlly@gmail.com  New delhi    Salesman    36500\n",
       "4     Santosh   Stosh@gmail.com     Punjab  Management    35629\n",
       "0        Guru     Gru@gmail.com       Pune          IT    35000\n",
       "2     Marycom    Mcom@yahoo.com     Mumbai  Developere    65000"
      ]
     },
     "execution_count": 131,
     "metadata": {},
     "output_type": "execute_result"
    }
   ],
   "source": [
    "Sorted =df.sort_values(['Department'], ascending=False)\n",
    "Sorted.head(5)"
   ]
  },
  {
   "cell_type": "code",
   "execution_count": null,
   "metadata": {},
   "outputs": [],
   "source": []
  }
 ],
 "metadata": {
  "kernelspec": {
   "display_name": "Python 3",
   "language": "python",
   "name": "python3"
  }
 },
 "nbformat": 4,
 "nbformat_minor": 2
}
