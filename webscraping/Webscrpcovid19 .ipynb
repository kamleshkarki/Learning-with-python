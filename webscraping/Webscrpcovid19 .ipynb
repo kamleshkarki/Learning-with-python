{
 "cells": [
  {
   "cell_type": "code",
   "execution_count": 17,
   "metadata": {},
   "outputs": [],
   "source": [
    "#Import pandas library\n",
    "import pandas as pd\n",
    "import requests\n",
    "from bs4 import BeautifulSoup\n",
    "from tabulate import tabulate"
   ]
  },
  {
   "cell_type": "code",
   "execution_count": 18,
   "metadata": {},
   "outputs": [],
   "source": [
    "#request for a web site site to scrall web data\n",
    "res= requests.get(\"https://www.worldometers.info/coronavirus/\")\n",
    "#res= requests.get(\"https://www.mohfw.gov.in/\")\n"
   ]
  },
  {
   "cell_type": "code",
   "execution_count": 19,
   "metadata": {},
   "outputs": [],
   "source": [
    "soup=BeautifulSoup(res.content,'lxml')"
   ]
  },
  {
   "cell_type": "code",
   "execution_count": 20,
   "metadata": {},
   "outputs": [],
   "source": [
    "table=soup.find_all('table')[0]"
   ]
  },
  {
   "cell_type": "code",
   "execution_count": 21,
   "metadata": {},
   "outputs": [
    {
     "name": "stdout",
     "output_type": "stream",
     "text": [
      "None\n"
     ]
    }
   ],
   "source": [
    "df= pd.read_html(str(table))\n",
    "#print(df[0].to_json(orient='records'))\n",
    "#print(df[0].to_csv(orient='records'))\n",
    "print(df[0].to_excel(r'C:/Users/RamaKrishna/Desktop/R1.xlsx', sheet_name='Sheet1'))\n",
    "#data export in Excel format"
   ]
  },
  {
   "cell_type": "code",
   "execution_count": 16,
   "metadata": {},
   "outputs": [
    {
     "name": "stdout",
     "output_type": "stream",
     "text": [
      "[{\"S. No.\":\"1\",\"Name of State \\/ UT\":\"Andaman and Nicobar Islands\",\"Total Confirmed cases (Including 77 foreign Nationals)\":\"14\",\"Cured\\/Discharged\\/Migrated\":\"11\",\"Death\":\"0\"},{\"S. No.\":\"2\",\"Name of State \\/ UT\":\"Andhra Pradesh\",\"Total Confirmed cases (Including 77 foreign Nationals)\":\"603\",\"Cured\\/Discharged\\/Migrated\":\"42\",\"Death\":\"15\"},{\"S. No.\":\"3\",\"Name of State \\/ UT\":\"Arunachal Pradesh\",\"Total Confirmed cases (Including 77 foreign Nationals)\":\"1\",\"Cured\\/Discharged\\/Migrated\":\"0\",\"Death\":\"0\"},{\"S. No.\":\"4\",\"Name of State \\/ UT\":\"Assam\",\"Total Confirmed cases (Including 77 foreign Nationals)\":\"35\",\"Cured\\/Discharged\\/Migrated\":\"12\",\"Death\":\"1\"},{\"S. No.\":\"5\",\"Name of State \\/ UT\":\"Bihar\",\"Total Confirmed cases (Including 77 foreign Nationals)\":\"86\",\"Cured\\/Discharged\\/Migrated\":\"37\",\"Death\":\"2\"},{\"S. No.\":\"6\",\"Name of State \\/ UT\":\"Chandigarh\",\"Total Confirmed cases (Including 77 foreign Nationals)\":\"23\",\"Cured\\/Discharged\\/Migrated\":\"10\",\"Death\":\"0\"},{\"S. No.\":\"7\",\"Name of State \\/ UT\":\"Chhattisgarh\",\"Total Confirmed cases (Including 77 foreign Nationals)\":\"36\",\"Cured\\/Discharged\\/Migrated\":\"24\",\"Death\":\"0\"},{\"S. No.\":\"8\",\"Name of State \\/ UT\":\"Delhi\",\"Total Confirmed cases (Including 77 foreign Nationals)\":\"1893\",\"Cured\\/Discharged\\/Migrated\":\"72\",\"Death\":\"43\"},{\"S. No.\":\"9\",\"Name of State \\/ UT\":\"Goa\",\"Total Confirmed cases (Including 77 foreign Nationals)\":\"7\",\"Cured\\/Discharged\\/Migrated\":\"6\",\"Death\":\"0\"},{\"S. No.\":\"10\",\"Name of State \\/ UT\":\"Gujarat\",\"Total Confirmed cases (Including 77 foreign Nationals)\":\"1604\",\"Cured\\/Discharged\\/Migrated\":\"94\",\"Death\":\"58\"},{\"S. No.\":\"11\",\"Name of State \\/ UT\":\"Haryana\",\"Total Confirmed cases (Including 77 foreign Nationals)\":\"233\",\"Cured\\/Discharged\\/Migrated\":\"87\",\"Death\":\"3\"},{\"S. No.\":\"12\",\"Name of State \\/ UT\":\"Himachal Pradesh\",\"Total Confirmed cases (Including 77 foreign Nationals)\":\"39\",\"Cured\\/Discharged\\/Migrated\":\"16\",\"Death\":\"1\"},{\"S. No.\":\"13\",\"Name of State \\/ UT\":\"Jammu and Kashmir\",\"Total Confirmed cases (Including 77 foreign Nationals)\":\"341\",\"Cured\\/Discharged\\/Migrated\":\"51\",\"Death\":\"5\"},{\"S. No.\":\"14\",\"Name of State \\/ UT\":\"Jharkhand\",\"Total Confirmed cases (Including 77 foreign Nationals)\":\"35\",\"Cured\\/Discharged\\/Migrated\":\"0\",\"Death\":\"2\"},{\"S. No.\":\"15\",\"Name of State \\/ UT\":\"Karnataka\",\"Total Confirmed cases (Including 77 foreign Nationals)\":\"384\",\"Cured\\/Discharged\\/Migrated\":\"104\",\"Death\":\"14\"},{\"S. No.\":\"16\",\"Name of State \\/ UT\":\"Kerala\",\"Total Confirmed cases (Including 77 foreign Nationals)\":\"400\",\"Cured\\/Discharged\\/Migrated\":\"257\",\"Death\":\"3\"},{\"S. No.\":\"17\",\"Name of State \\/ UT\":\"Ladakh\",\"Total Confirmed cases (Including 77 foreign Nationals)\":\"18\",\"Cured\\/Discharged\\/Migrated\":\"14\",\"Death\":\"0\"},{\"S. No.\":\"18\",\"Name of State \\/ UT\":\"Madhya Pradesh\",\"Total Confirmed cases (Including 77 foreign Nationals)\":\"1407\",\"Cured\\/Discharged\\/Migrated\":\"127\",\"Death\":\"70\"},{\"S. No.\":\"19\",\"Name of State \\/ UT\":\"Maharashtra\",\"Total Confirmed cases (Including 77 foreign Nationals)\":\"3651\",\"Cured\\/Discharged\\/Migrated\":\"365\",\"Death\":\"211\"},{\"S. No.\":\"20\",\"Name of State \\/ UT\":\"Manipur\",\"Total Confirmed cases (Including 77 foreign Nationals)\":\"2\",\"Cured\\/Discharged\\/Migrated\":\"1\",\"Death\":\"0\"},{\"S. No.\":\"21\",\"Name of State \\/ UT\":\"Meghalaya\",\"Total Confirmed cases (Including 77 foreign Nationals)\":\"11\",\"Cured\\/Discharged\\/Migrated\":\"0\",\"Death\":\"1\"},{\"S. No.\":\"22\",\"Name of State \\/ UT\":\"Mizoram\",\"Total Confirmed cases (Including 77 foreign Nationals)\":\"1\",\"Cured\\/Discharged\\/Migrated\":\"0\",\"Death\":\"0\"},{\"S. No.\":\"23\",\"Name of State \\/ UT\":\"Nagaland#\",\"Total Confirmed cases (Including 77 foreign Nationals)\":\"0\",\"Cured\\/Discharged\\/Migrated\":\"0\",\"Death\":\"0\"},{\"S. No.\":\"24\",\"Name of State \\/ UT\":\"Odisha\",\"Total Confirmed cases (Including 77 foreign Nationals)\":\"61\",\"Cured\\/Discharged\\/Migrated\":\"24\",\"Death\":\"1\"},{\"S. No.\":\"25\",\"Name of State \\/ UT\":\"Puducherry\",\"Total Confirmed cases (Including 77 foreign Nationals)\":\"7\",\"Cured\\/Discharged\\/Migrated\":\"3\",\"Death\":\"0\"},{\"S. No.\":\"26\",\"Name of State \\/ UT\":\"Punjab\",\"Total Confirmed cases (Including 77 foreign Nationals)\":\"219\",\"Cured\\/Discharged\\/Migrated\":\"31\",\"Death\":\"16\"},{\"S. No.\":\"27\",\"Name of State \\/ UT\":\"Rajasthan\",\"Total Confirmed cases (Including 77 foreign Nationals)\":\"1351\",\"Cured\\/Discharged\\/Migrated\":\"183\",\"Death\":\"11\"},{\"S. No.\":\"28\",\"Name of State \\/ UT\":\"Tamil Nadu\",\"Total Confirmed cases (Including 77 foreign Nationals)\":\"1372\",\"Cured\\/Discharged\\/Migrated\":\"365\",\"Death\":\"15\"},{\"S. No.\":\"29\",\"Name of State \\/ UT\":\"Telengana\",\"Total Confirmed cases (Including 77 foreign Nationals)\":\"844\",\"Cured\\/Discharged\\/Migrated\":\"186\",\"Death\":\"18\"},{\"S. No.\":\"30\",\"Name of State \\/ UT\":\"Tripura\",\"Total Confirmed cases (Including 77 foreign Nationals)\":\"2\",\"Cured\\/Discharged\\/Migrated\":\"1\",\"Death\":\"0\"},{\"S. No.\":\"31\",\"Name of State \\/ UT\":\"Uttarakhand\",\"Total Confirmed cases (Including 77 foreign Nationals)\":\"42\",\"Cured\\/Discharged\\/Migrated\":\"9\",\"Death\":\"0\"},{\"S. No.\":\"32\",\"Name of State \\/ UT\":\"Uttar Pradesh\",\"Total Confirmed cases (Including 77 foreign Nationals)\":\"1084\",\"Cured\\/Discharged\\/Migrated\":\"108\",\"Death\":\"17\"},{\"S. No.\":\"32\",\"Name of State \\/ UT\":\"West Bengal\",\"Total Confirmed cases (Including 77 foreign Nationals)\":\"310\",\"Cured\\/Discharged\\/Migrated\":\"62\",\"Death\":\"12\"},{\"S. No.\":\"Total number of confirmed cases in India\",\"Name of State \\/ UT\":\"Total number of confirmed cases in India\",\"Total Confirmed cases (Including 77 foreign Nationals)\":\"16116*\",\"Cured\\/Discharged\\/Migrated\":\"2302\",\"Death\":\"519\"},{\"S. No.\":\"*Our figures are being reconciled with ICMR\",\"Name of State \\/ UT\":\"*Our figures are being reconciled with ICMR\",\"Total Confirmed cases (Including 77 foreign Nationals)\":\"*Our figures are being reconciled with ICMR\",\"Cured\\/Discharged\\/Migrated\":\"*Our figures are being reconciled with ICMR\",\"Death\":\"*Our figures are being reconciled with ICMR\"}]\n"
     ]
    }
   ],
   "source": [
    "#view the data in json format\n",
    "print(df[0].to_json(orient='records'))\n",
    "#print(tabulate(df[0], headers='keys', tablefmt='psql'))\n",
    "#df.to_csv(r'C:/Users/RamaKrishna/Desktop/b.csv', index = False)"
   ]
  },
  {
   "cell_type": "code",
   "execution_count": null,
   "metadata": {},
   "outputs": [],
   "source": []
  }
 ],
 "metadata": {
  "kernelspec": {
   "display_name": "Python 3",
   "language": "python",
   "name": "python3"
  },
  "language_info": {
   "codemirror_mode": {
    "name": "ipython",
    "version": 3
   },
   "file_extension": ".py",
   "mimetype": "text/x-python",
   "name": "python",
   "nbconvert_exporter": "python",
   "pygments_lexer": "ipython3",
   "version": "3.7.3"
  }
 },
 "nbformat": 4,
 "nbformat_minor": 4
}
