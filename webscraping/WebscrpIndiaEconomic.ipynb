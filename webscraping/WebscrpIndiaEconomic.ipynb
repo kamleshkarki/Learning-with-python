{
 "cells": [
  {
   "cell_type": "code",
   "execution_count": 1,
   "metadata": {},
   "outputs": [],
   "source": [
    "#Import pandas library\n",
    "import pandas as pd\n",
    "import requests\n",
    "from bs4 import BeautifulSoup\n",
    "from tabulate import tabulate"
   ]
  },
  {
   "cell_type": "code",
   "execution_count": 22,
   "metadata": {},
   "outputs": [],
   "source": [
    "#request for a web site site to scrall web data\n",
    "res= requests.get(\"https://tradingeconomics.com/india/forecast\")\n",
    "#res= requests.get(\"https://www.mohfw.gov.in/\")\n"
   ]
  },
  {
   "cell_type": "code",
   "execution_count": 23,
   "metadata": {},
   "outputs": [],
   "source": [
    "soup=BeautifulSoup(res.content,'lxml')"
   ]
  },
  {
   "cell_type": "code",
   "execution_count": 60,
   "metadata": {},
   "outputs": [],
   "source": [
    "table=soup.find_all('table')[10]"
   ]
  },
  {
   "cell_type": "code",
   "execution_count": 61,
   "metadata": {},
   "outputs": [
    {
     "name": "stdout",
     "output_type": "stream",
     "text": [
      "[{\"Consumer\":\"Consumer Confidence  (points)\",\"Actual\":83.7,\"Q2\":69.0,\"Q3\":72.0,\"Q4\":71.0,\"Q1\":75.0,\"2021\":79.0},{\"Consumer\":\"Consumer Spending  (INR Billion)\",\"Actual\":21662.35,\"Q2\":19934.0,\"Q3\":20221.0,\"Q4\":21987.0,\"Q1\":22074.0,\"2021\":22537.0},{\"Consumer\":\"Disposable Personal Income  (INR Million)\",\"Actual\":206752290.0,\"Q2\":193781537.0,\"Q3\":193877946.0,\"Q4\":209853574.0,\"Q1\":210680584.0,\"2021\":215099914.0},{\"Consumer\":\"Bank Lending Rate  (%)\",\"Actual\":9.4,\"Q2\":9.25,\"Q3\":9.25,\"Q4\":9.25,\"Q1\":8.75,\"2021\":8.75},{\"Consumer\":\"Households Debt To GDP  (% of GDP)\",\"Actual\":12.0,\"Q2\":11.5,\"Q3\":11.5,\"Q4\":11.5,\"Q1\":11.5,\"2021\":12.0},{\"Consumer\":\"Gasoline Prices  (USD\\/Liter)\",\"Actual\":0.93,\"Q2\":0.88,\"Q3\":0.84,\"Q4\":0.8,\"Q1\":0.76,\"2021\":0.72}]\n"
     ]
    }
   ],
   "source": [
    "df= pd.read_html(str(table))\n",
    "print(df[0].to_json(orient='records'))"
   ]
  },
  {
   "cell_type": "code",
   "execution_count": 62,
   "metadata": {},
   "outputs": [
    {
     "name": "stdout",
     "output_type": "stream",
     "text": [
      "None\n"
     ]
    }
   ],
   "source": [
    "#print(df[0].to_json(orient='records'))\n",
    "#print(df[0].to_csv(orient='records'))\n",
    "print(df[0].to_excel(r'C:/Users/RamaKrishna/Desktop/R2.xlsx', sheet_name='Sheet2'))\n",
    "#data export in Excel format"
   ]
  },
  {
   "cell_type": "code",
   "execution_count": 11,
   "metadata": {},
   "outputs": [],
   "source": [
    "#view the data in json format\n",
    "#print(df[0].to_json(orient='records'))\n",
    "#print(tabulate(df[0], headers='keys', tablefmt='psql'))\n",
    "#df.to_csv(r'C:/Users/RamaKrishna/Desktop/b.csv', index = False)"
   ]
  },
  {
   "cell_type": "code",
   "execution_count": null,
   "metadata": {},
   "outputs": [],
   "source": []
  }
 ],
 "metadata": {
  "kernelspec": {
   "display_name": "Python 3",
   "language": "python",
   "name": "python3"
  },
  "language_info": {
   "codemirror_mode": {
    "name": "ipython",
    "version": 3
   },
   "file_extension": ".py",
   "mimetype": "text/x-python",
   "name": "python",
   "nbconvert_exporter": "python",
   "pygments_lexer": "ipython3",
   "version": "3.7.3"
  }
 },
 "nbformat": 4,
 "nbformat_minor": 4
}
